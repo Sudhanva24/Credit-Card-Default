{
 "cells": [
  {
   "cell_type": "code",
   "execution_count": 37,
   "id": "1c225006",
   "metadata": {},
   "outputs": [],
   "source": [
    "import pandas as pd\n",
    "import numpy as np\n",
    "from sklearn.preprocessing import OneHotEncoder"
   ]
  },
  {
   "cell_type": "code",
   "execution_count": 38,
   "id": "a3173aa6",
   "metadata": {},
   "outputs": [],
   "source": [
    "train=pd.read_csv(\"/Users/sudhanvasavyasachi/Desktop/Projects/Credit Card Default/Data/processed_train.csv\")"
   ]
  },
  {
   "cell_type": "code",
   "execution_count": 39,
   "id": "4b3d595b",
   "metadata": {},
   "outputs": [],
   "source": [
    "test=pd.read_csv(\"/Users/sudhanvasavyasachi/Desktop/Projects/Credit Card Default/Data/processed_test.csv\")"
   ]
  },
  {
   "cell_type": "code",
   "execution_count": 40,
   "id": "f56e6b01",
   "metadata": {},
   "outputs": [
    {
     "data": {
      "text/plain": [
       "Index(['marriage', 'sex', 'education', 'limit_bal', 'age', 'pay_1', 'pay_2',\n",
       "       'pay_3', 'pay_4', 'pay_5', 'pay_6', 'bill_amt1', 'bill_amt2',\n",
       "       'bill_amt3', 'bill_amt4', 'bill_amt5', 'bill_amt6', 'pay_amt1',\n",
       "       'pay_amt2', 'pay_amt3', 'pay_amt4', 'pay_amt5', 'pay_amt6',\n",
       "       'pay_to_bill_ratio', 'next_month_default', 'avg_bill_amt'],\n",
       "      dtype='object')"
      ]
     },
     "execution_count": 40,
     "metadata": {},
     "output_type": "execute_result"
    }
   ],
   "source": [
    "train.columns"
   ]
  },
  {
   "cell_type": "code",
   "execution_count": 41,
   "id": "ab3f979a",
   "metadata": {},
   "outputs": [
    {
     "data": {
      "text/plain": [
       "Index(['marriage', 'sex', 'education', 'limit_bal', 'age', 'pay_1', 'pay_2',\n",
       "       'pay_3', 'pay_4', 'pay_5', 'pay_6', 'bill_amt1', 'bill_amt2',\n",
       "       'bill_amt3', 'bill_amt4', 'bill_amt5', 'bill_amt6', 'pay_amt1',\n",
       "       'pay_amt2', 'pay_amt3', 'pay_amt4', 'pay_amt5', 'pay_amt6',\n",
       "       'pay_to_bill_ratio', 'next_month_default', 'avg_bill_amt'],\n",
       "      dtype='object')"
      ]
     },
     "execution_count": 41,
     "metadata": {},
     "output_type": "execute_result"
    }
   ],
   "source": [
    "test.columns"
   ]
  },
  {
   "cell_type": "markdown",
   "id": "ca1a1d71",
   "metadata": {},
   "source": [
    "# Feature Addition"
   ]
  },
  {
   "cell_type": "code",
   "execution_count": 42,
   "id": "8d78076f",
   "metadata": {},
   "outputs": [],
   "source": [
    "train['total_pay'] = train[[f'pay_amt{i}' for i in range(1, 7)]].apply(lambda x: x.sum(), axis=1)\n",
    "train['total_bill'] = train[[f'bill_amt{i}' for i in range(1, 7)]].apply(lambda x: x.sum(), axis=1)\n",
    "test['total_pay'] = test[[f'pay_amt{i}' for i in range(1, 7)]].apply(lambda x: x.sum(), axis=1)\n",
    "test['total_bill'] = test[[f'bill_amt{i}' for i in range(1, 7)]].apply(lambda x: x.sum(), axis=1)"
   ]
  },
  {
   "cell_type": "code",
   "execution_count": 43,
   "id": "c0571e0b",
   "metadata": {},
   "outputs": [],
   "source": [
    "train['average_utilization']=train['avg_bill_amt']/train['limit_bal']\n",
    "test['average_utilization']=test['avg_bill_amt']/test['limit_bal']"
   ]
  },
  {
   "cell_type": "code",
   "execution_count": 44,
   "id": "0e3368c4",
   "metadata": {},
   "outputs": [],
   "source": [
    "delay_cols = ['pay_1', 'pay_2', 'pay_3', 'pay_4', 'pay_5', 'pay_6']\n",
    "train['delinquency_score'] = train[delay_cols].sum(axis=1)\n",
    "test['delinquency_score'] = test[delay_cols].sum(axis=1)"
   ]
  },
  {
   "cell_type": "code",
   "execution_count": 45,
   "id": "11b5859f",
   "metadata": {},
   "outputs": [],
   "source": [
    "pay_cols = ['pay_amt1', 'pay_amt2', 'pay_amt3', 'pay_amt4', 'pay_amt5', 'pay_amt6']\n",
    "train['consistency_score'] = train[pay_cols].std(axis=1)"
   ]
  },
  {
   "cell_type": "code",
   "execution_count": 46,
   "id": "e39863e9",
   "metadata": {},
   "outputs": [],
   "source": [
    "test['consistency_score'] = test[pay_cols].std(axis=1)"
   ]
  },
  {
   "cell_type": "code",
   "execution_count": 47,
   "id": "9f75adc5",
   "metadata": {},
   "outputs": [
    {
     "name": "stdout",
     "output_type": "stream",
     "text": [
      "<class 'pandas.core.frame.DataFrame'>\n",
      "RangeIndex: 22086 entries, 0 to 22085\n",
      "Data columns (total 31 columns):\n",
      " #   Column               Non-Null Count  Dtype  \n",
      "---  ------               --------------  -----  \n",
      " 0   marriage             22086 non-null  int64  \n",
      " 1   sex                  22086 non-null  int64  \n",
      " 2   education            22086 non-null  int64  \n",
      " 3   limit_bal            22086 non-null  int64  \n",
      " 4   age                  21970 non-null  float64\n",
      " 5   pay_1                22086 non-null  int64  \n",
      " 6   pay_2                22086 non-null  int64  \n",
      " 7   pay_3                22086 non-null  int64  \n",
      " 8   pay_4                22086 non-null  int64  \n",
      " 9   pay_5                22086 non-null  int64  \n",
      " 10  pay_6                22086 non-null  int64  \n",
      " 11  bill_amt1            22086 non-null  float64\n",
      " 12  bill_amt2            22086 non-null  float64\n",
      " 13  bill_amt3            22086 non-null  float64\n",
      " 14  bill_amt4            22086 non-null  float64\n",
      " 15  bill_amt5            22086 non-null  float64\n",
      " 16  bill_amt6            22086 non-null  float64\n",
      " 17  pay_amt1             22086 non-null  float64\n",
      " 18  pay_amt2             22086 non-null  float64\n",
      " 19  pay_amt3             22086 non-null  float64\n",
      " 20  pay_amt4             22086 non-null  float64\n",
      " 21  pay_amt5             22086 non-null  float64\n",
      " 22  pay_amt6             22086 non-null  float64\n",
      " 23  pay_to_bill_ratio    22086 non-null  float64\n",
      " 24  next_month_default   22086 non-null  int64  \n",
      " 25  avg_bill_amt         22086 non-null  float64\n",
      " 26  total_pay            22086 non-null  float64\n",
      " 27  total_bill           22086 non-null  float64\n",
      " 28  average_utilization  22086 non-null  float64\n",
      " 29  delinquency_score    22086 non-null  int64  \n",
      " 30  consistency_score    22086 non-null  float64\n",
      "dtypes: float64(19), int64(12)\n",
      "memory usage: 5.2 MB\n"
     ]
    }
   ],
   "source": [
    "train.info()"
   ]
  },
  {
   "cell_type": "markdown",
   "id": "36d3b07e",
   "metadata": {},
   "source": [
    "## Dropping the null values from both train and test"
   ]
  },
  {
   "cell_type": "code",
   "execution_count": 48,
   "id": "2bd7b92f",
   "metadata": {},
   "outputs": [],
   "source": [
    "train.dropna(inplace=True)\n",
    "test.dropna(inplace=True)"
   ]
  },
  {
   "cell_type": "markdown",
   "id": "46f87f01",
   "metadata": {},
   "source": [
    "## Mutual information"
   ]
  },
  {
   "cell_type": "code",
   "execution_count": 50,
   "id": "1d79e79c",
   "metadata": {},
   "outputs": [
    {
     "name": "stdout",
     "output_type": "stream",
     "text": [
      "                     MI Score\n",
      "pay_1                0.071571\n",
      "delinquency_score    0.064369\n",
      "pay_2                0.043221\n",
      "pay_4                0.035083\n",
      "pay_3                0.032263\n",
      "pay_5                0.026135\n",
      "pay_6                0.025572\n",
      "pay_amt1             0.024785\n",
      "total_pay            0.019644\n",
      "pay_amt3             0.017415\n",
      "average_utilization  0.016164\n",
      "pay_amt2             0.016035\n",
      "pay_amt4             0.015921\n",
      "avg_bill_amt         0.014903\n",
      "pay_amt5             0.014355\n",
      "pay_to_bill_ratio    0.014094\n",
      "total_bill           0.014053\n",
      "consistency_score    0.011577\n",
      "limit_bal            0.010265\n",
      "sex                  0.009206\n",
      "pay_amt6             0.008819\n",
      "bill_amt3            0.007998\n",
      "education            0.005395\n",
      "bill_amt6            0.004888\n",
      "bill_amt4            0.004387\n",
      "bill_amt2            0.004252\n",
      "age                  0.003691\n",
      "marriage             0.003523\n",
      "bill_amt5            0.003518\n",
      "bill_amt1            0.002874\n"
     ]
    }
   ],
   "source": [
    "# calculate the MI score for every feature in train set wrt to target variable\n",
    "from sklearn.feature_selection import mutual_info_classif\n",
    "def calculate_mi_scores(X, y):\n",
    "    mi_scores = mutual_info_classif(X, y, discrete_features='auto', random_state=42)\n",
    "    mi_scores_df = pd.DataFrame(mi_scores, index=X.columns, columns=['MI Score'])\n",
    "    return mi_scores_df.sort_values(by='MI Score', ascending=False)\n",
    "X_train = train.drop(columns=['next_month_default'])\n",
    "y_train = train['next_month_default']\n",
    "mi_scores_train = calculate_mi_scores(X_train, y_train)\n",
    "# print the MI scores\n",
    "print(mi_scores_train)"
   ]
  },
  {
   "cell_type": "code",
   "execution_count": null,
   "id": "69b0b3ba",
   "metadata": {},
   "outputs": [],
   "source": [
    "train.to_csv(\"engineered_train_1.csv\",index=False)\n",
    "test.to_csv(\"engineered_test_1.csv\",index=False)"
   ]
  }
 ],
 "metadata": {
  "kernelspec": {
   "display_name": "base",
   "language": "python",
   "name": "python3"
  },
  "language_info": {
   "codemirror_mode": {
    "name": "ipython",
    "version": 3
   },
   "file_extension": ".py",
   "mimetype": "text/x-python",
   "name": "python",
   "nbconvert_exporter": "python",
   "pygments_lexer": "ipython3",
   "version": "3.12.7"
  }
 },
 "nbformat": 4,
 "nbformat_minor": 5
}
